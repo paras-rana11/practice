{
 "cells": [
  {
   "cell_type": "markdown",
   "id": "34e628cd",
   "metadata": {},
   "source": [
    "### NumPy Array Operation"
   ]
  },
  {
   "cell_type": "code",
   "execution_count": 1,
   "id": "16aae612",
   "metadata": {},
   "outputs": [],
   "source": [
    "import numpy as np"
   ]
  },
  {
   "cell_type": "code",
   "execution_count": 2,
   "id": "1c3afb62",
   "metadata": {},
   "outputs": [
    {
     "name": "stdout",
     "output_type": "stream",
     "text": [
      "Basic Slicing:  [4 5 6 7]\n",
      "Slicing With Step:  [2 4 6 8]\n",
      "Negative Slicing:  7\n"
     ]
    }
   ],
   "source": [
    "arr = np.array([1, 2, 3, 4, 5, 6, 7, 8, 9, 10])\n",
    "print(\"Basic Slicing: \", arr[3:7])\n",
    "print(\"Slicing With Step: \", arr[1:8:2])\n",
    "print(\"Negative Slicing: \", arr[-4])"
   ]
  },
  {
   "cell_type": "code",
   "execution_count": 3,
   "id": "b8be4ef5",
   "metadata": {},
   "outputs": [
    {
     "name": "stdout",
     "output_type": "stream",
     "text": [
      "Specific Element:  9\n",
      "Entire Row:  [7 8 9]\n",
      "Entire Column:  [2 5 8 1]\n"
     ]
    }
   ],
   "source": [
    "arr_2d = np.array([[1, 2, 3], \n",
    "                   [4, 5, 6],\n",
    "                   [7, 8, 9],\n",
    "                   [0, 1, 2]])\n",
    "print(\"Specific Element: \", arr_2d[2, 2])\n",
    "print(\"Entire Row: \", arr_2d[2])\n",
    "print(\"Entire Column: \", arr_2d[:, 1])"
   ]
  },
  {
   "cell_type": "markdown",
   "id": "083fbb89",
   "metadata": {},
   "source": [
    "### Sorting"
   ]
  },
  {
   "cell_type": "code",
   "execution_count": null,
   "id": "beeefaf3",
   "metadata": {},
   "outputs": [],
   "source": [
    "unsorted = np.array([3, 1, 7, 2, 6, 9, 4, 0, 63, 21, 17, 15, 11])\n",
    "print(\"Sorted Array: \", np.sort(unsorted))\n",
    "\n",
    "arr_2d_unsorted = [[5,2], [9,1], [0,7]]\n",
    "print(\"Sorted 2D array by column: \\n\", np.sort(arr_2d_unsorted, axis=0))\n",
    "print(\"Sorted 2D array by row: \\n\", np.sort(arr_2d_unsorted, axis=1))\n"
   ]
  },
  {
   "cell_type": "markdown",
   "id": "d240adcf",
   "metadata": {},
   "source": [
    "## Filter"
   ]
  },
  {
   "cell_type": "code",
   "execution_count": 77,
   "id": "0e9424bc",
   "metadata": {},
   "outputs": [
    {
     "name": "stdout",
     "output_type": "stream",
     "text": [
      "[False  True False  True False  True False  True False  True]\n",
      "Even numbers:  [ 2  4 56  8 10]\n"
     ]
    }
   ],
   "source": [
    "numbers = np.array([1,2,3,4,5,56,7,8,9,10])\n",
    "even_numbers = numbers[numbers % 2 == 0]\n",
    "print(numbers % 2 == 0)\n",
    "print(\"Even numbers: \", even_numbers)"
   ]
  },
  {
   "cell_type": "markdown",
   "id": "dd5c52a0",
   "metadata": {},
   "source": [
    "## Filter with mask"
   ]
  },
  {
   "cell_type": "code",
   "execution_count": null,
   "id": "c3c6d622",
   "metadata": {},
   "outputs": [],
   "source": [
    "numbers = np.array([1,2,3,4,5,56,7,8,9,10])\n",
    "mask = numbers > 5\n",
    "print(mask)\n",
    "print(\"Numbers greater than 5: \", numbers[mask])"
   ]
  },
  {
   "cell_type": "markdown",
   "id": "e8d82eae",
   "metadata": {},
   "source": [
    "## fancy indexing vs np.where()"
   ]
  },
  {
   "cell_type": "code",
   "execution_count": null,
   "id": "eaeafdbd",
   "metadata": {},
   "outputs": [],
   "source": [
    "numbers = np.array([1, 2, 3, 4, 5, 56, 7, 8, 9, 10, 2, 5, 4, 3, 59])\n",
    "indices = [0, 2, 4, 6]\n",
    "print(numbers[indices])\n",
    "\n",
    "where_result = np.where(numbers > 5)\n",
    "print(where_result)         # position of element\n",
    "print(\"NP Where: \", numbers[where_result])"
   ]
  },
  {
   "cell_type": "markdown",
   "id": "dcf0cf26",
   "metadata": {},
   "source": [
    "### np.where syntax:\n",
    "\n",
    "```python\n",
    "np.where(condition, value_if_true, value_if_false)\n",
    "\n"
   ]
  },
  {
   "cell_type": "code",
   "execution_count": null,
   "id": "20b8fd96",
   "metadata": {},
   "outputs": [],
   "source": [
    "condition_array = np.where(numbers > 5, True, False)\n",
    "print(condition_array)\n",
    "\n",
    "condition_array = np.where(numbers > 5, numbers, numbers)\n",
    "print(condition_array)\n",
    "\n",
    "condition_array = np.where(numbers > 5, numbers*2, numbers)\n",
    "print(condition_array)\n"
   ]
  },
  {
   "cell_type": "markdown",
   "id": "458872c2",
   "metadata": {},
   "source": [
    "## Add, Remove, Merging array"
   ]
  },
  {
   "cell_type": "code",
   "execution_count": null,
   "id": "5bfab934",
   "metadata": {},
   "outputs": [],
   "source": [
    "# ADD\n",
    "arr1 = np.array([1, 2, 3])\n",
    "new_arr = np.append(arr1, 4)\n",
    "print(\"Added 4 using append: \", new_arr)   # [1 2 3 4]\n",
    "\n",
    "arr1 = np.array([1, 2, 3])\n",
    "new_arr = np.insert(arr1, 1, 10)  # index 1 pe 10 insert hoga\n",
    "print(\"Added 10 at index 1 using insert: \", new_arr)  # [1 10 2 3]\n",
    "\n",
    "\n",
    "# REMOVE\n",
    "arr2 = np.array([1, 2, 3, 4, 5])\n",
    "new_arr = np.delete(arr2, 2)  # index 2 (element 3) remove hoga\n",
    "print(\"Removed ele at index 2 using delete: \", new_arr)  # [1 2 4 5]\n",
    "\n",
    "\n",
    "# MERGE\n",
    "print(\"arr1: \", arr1)\n",
    "print(\"arr2: \", arr2)\n",
    "merged = np.concatenate((arr1, arr2))\n",
    "print(\"Merged using concatenate: \", merged)"
   ]
  },
  {
   "cell_type": "markdown",
   "id": "6f154f39",
   "metadata": {},
   "source": [
    "## Check Array Compatibility"
   ]
  },
  {
   "cell_type": "code",
   "execution_count": null,
   "id": "74c1bb4c",
   "metadata": {},
   "outputs": [],
   "source": [
    "a = np.array([1, 2, 3])\n",
    "b = np.array([4, 5, 6, 0])\n",
    "c = np.array([7, 8, 9])\n",
    "\n",
    "print(\"compatibility a and b: \", a.shape == b.shape)\n",
    "print(\"compatibility a and c: \", a.shape == c.shape)"
   ]
  },
  {
   "cell_type": "markdown",
   "id": "df4e3788",
   "metadata": {},
   "source": [
    "## Adding row / Column"
   ]
  },
  {
   "cell_type": "code",
   "execution_count": null,
   "id": "4e2fadaf",
   "metadata": {},
   "outputs": [],
   "source": [
    "original = np.array([[1, 2], [4, 5]])\n",
    "new_row = np.array([[5, 6]])\n",
    "\n",
    "with_new_row = np.vstack((original, new_row))\n",
    "print(\"original: \\n\", original)\n",
    "print(\"With new row: \\n\", with_new_row)\n",
    "\n",
    "new_col = np.array([[0], [7]])\n",
    "with_new_col = np.hstack((original, new_col))\n",
    "print(\"\\noriginal: \\n\", original)\n",
    "print(\"With new column: \\n\",with_new_col)\n"
   ]
  }
 ],
 "metadata": {
  "kernelspec": {
   "display_name": ".venv (3.10.0)",
   "language": "python",
   "name": "python3"
  },
  "language_info": {
   "codemirror_mode": {
    "name": "ipython",
    "version": 3
   },
   "file_extension": ".py",
   "mimetype": "text/x-python",
   "name": "python",
   "nbconvert_exporter": "python",
   "pygments_lexer": "ipython3",
   "version": "3.10.0"
  }
 },
 "nbformat": 4,
 "nbformat_minor": 5
}
