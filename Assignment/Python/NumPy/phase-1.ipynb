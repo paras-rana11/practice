{
 "cells": [
  {
   "cell_type": "markdown",
   "id": "e3d96d09",
   "metadata": {},
   "source": [
    "### importing NumPy"
   ]
  },
  {
   "cell_type": "code",
   "execution_count": 2,
   "id": "d878225a",
   "metadata": {},
   "outputs": [],
   "source": [
    "import numpy as np"
   ]
  },
  {
   "cell_type": "markdown",
   "id": "f615a2c1",
   "metadata": {},
   "source": [
    "### creating array from list"
   ]
  },
  {
   "cell_type": "code",
   "execution_count": null,
   "id": "51c7e3e8",
   "metadata": {},
   "outputs": [],
   "source": [
    "arr_1d = np.array([1, 2, 3, 4, 5])\n",
    "print(\"1D Array: \", arr_1d)\n",
    "\n",
    "arr_2d = np.array([[1, 2, 3], [4, 5, 6]])\n",
    "print(\"2D Array: \", arr_2d)"
   ]
  },
  {
   "cell_type": "markdown",
   "id": "73fd7d7c",
   "metadata": {},
   "source": [
    "### List vs NumPy array"
   ]
  },
  {
   "cell_type": "code",
   "execution_count": null,
   "id": "38cb5229",
   "metadata": {},
   "outputs": [],
   "source": [
    "py_list = [1, 2, 3]\n",
    "print(\"Python list multiplication \", py_list * 2)\n",
    "\n",
    "np_array = np.array([1, 2, 3])  #element wise multiplication\n",
    "print(\"Python array multiplication \", np_array * 2)\n",
    "\n",
    "import time\n",
    "start = time.time()\n",
    "py_list = [ i*2 for i in range(1000000)]\n",
    "print(\"\\n List operation time: \", time.time() - start)\n",
    "\n",
    "start = time.time()\n",
    "np_array = np.arange(1000000) * 2\n",
    "print(\"\\n NumPy operation time: \", time.time() - start)\n"
   ]
  },
  {
   "cell_type": "markdown",
   "id": "f1137b7b",
   "metadata": {},
   "source": [
    "### creating array from scratch\n"
   ]
  },
  {
   "cell_type": "code",
   "execution_count": null,
   "id": "6fa528ca",
   "metadata": {},
   "outputs": [],
   "source": [
    "zeros = np.zeros((3, 4))     # sare element 0 hoge\n",
    "print(\"zeros array: \\n\", zeros)\n",
    "\n",
    "ones = np.ones((5, 4))     # sare element 0 hoge\n",
    "print(\"ones array: \\n\", ones)\n",
    "\n",
    "full = np.full((5, 4), 8)     # sare element 8 hoge (second parameter)\n",
    "print(\"full array: \\n\", full)\n",
    "\n",
    "random = np.random.random((2,3))\n",
    "print(\"random array: \\n\", random)\n",
    "\n",
    "sequence = np.arange(0, 11, 2)\n",
    "print(\"sequence array: \\n\", sequence)"
   ]
  },
  {
   "cell_type": "markdown",
   "id": "a18cffaf",
   "metadata": {},
   "source": [
    "### Vector, Matrix, Tensor\n"
   ]
  },
  {
   "cell_type": "code",
   "execution_count": null,
   "id": "efff010c",
   "metadata": {},
   "outputs": [],
   "source": [
    "Vector = np.array([1, 2, 3])\n",
    "print(\"Vector: \\n\", Vector)\n",
    "\n",
    "Matrix = np.array([[1, 2, 3],\n",
    "                   [4, 5, 6]])\n",
    "print(\"Matrix: \\n\", Matrix)\n",
    "\n",
    "Tensor = np.array([ [[1, 2], [3, 4]],\n",
    "                    [[5, 6], [7, 8]] ])\n",
    "print(\"Tensor: \\n\", Tensor)"
   ]
  },
  {
   "cell_type": "markdown",
   "id": "7c67bf6b",
   "metadata": {},
   "source": [
    "### Array properties"
   ]
  },
  {
   "cell_type": "code",
   "execution_count": null,
   "id": "040ecc25",
   "metadata": {},
   "outputs": [],
   "source": [
    "# array = np.array([[1, 2, 3], [4, 5, 6.22 or \"22.5\" or True]])\n",
    "\n",
    "array = np.array([[1, 2, 3],\n",
    "                   [4, 5, 6]])\n",
    "\n",
    "print(\"Shape: \", array.shape)\n",
    "print(\"Dimension: \", array.ndim)\n",
    "print(\"Size: \", array.size)\n",
    "print(\"Dtype: \", array.dtype)\n",
    "\n"
   ]
  },
  {
   "cell_type": "markdown",
   "id": "937c4826",
   "metadata": {},
   "source": [
    "### Array Reshaping"
   ]
  },
  {
   "cell_type": "code",
   "execution_count": null,
   "id": "4a225be4",
   "metadata": {},
   "outputs": [],
   "source": [
    "arr = np.arange(12)\n",
    "print(\"original array: \\n\", arr)\n",
    "\n",
    "arr = arr.reshape((3, 4))\n",
    "print(\"original array reshaped: \\n\", arr)\n",
    "\n",
    "arr = arr.flatten()\n",
    "print(\"original array flattened: \\n\", arr)\n",
    "\n",
    "arr = arr.reshape((3, 4))\n",
    "print(\"original array reshaped again: \\n\", arr)\n",
    "\n",
    "arr = arr.ravel()\n",
    "print(\"original array raveled: \\n\", arr)\n"
   ]
  },
  {
   "cell_type": "code",
   "execution_count": null,
   "id": "aaa49761",
   "metadata": {},
   "outputs": [],
   "source": [
    "arr2 = np.arange(12)\n",
    "print(\"original array2: \\n\", arr)\n",
    "\n",
    "reshaped = arr2.reshape((3, 4))\n",
    "print(\"\\nReshaped array2: \\n\", reshaped)\n",
    "print(\"original array2: \\n\", arr)\n",
    "\n",
    "flattened = arr2.flatten()\n",
    "print(\"\\nflattened array2: \", flattened)\n",
    "print(\"original array2: \\n\", arr)\n",
    "\n",
    "reshaped = arr2.reshape((3, 4))\n",
    "print(\"\\nReshaped array2: \\n\", reshaped)\n",
    "print(\"original array2: \\n\", arr)\n",
    "\n",
    "raveled = arr2.ravel()\n",
    "print(\"\\nraveled array2: \\n\", raveled)\n",
    "print(\"original array2: \\n\", arr)\n"
   ]
  },
  {
   "cell_type": "code",
   "execution_count": null,
   "id": "8fae9e9b",
   "metadata": {},
   "outputs": [],
   "source": [
    "original = np.array([1, 2, 3, 4])\n",
    "view = original[1:3]  # ye ek view hai\n",
    "\n",
    "view[0] = 99  # view me change kiya\n",
    "print(\"Original:\", original)  # ➤ Output: [ 1 99  3  4 ]\n"
   ]
  },
  {
   "cell_type": "markdown",
   "id": "f4e6c3b6",
   "metadata": {},
   "source": [
    "| Action                 | Original array par asar?              |\n",
    "| ---------------------- | ------------------------------------- |\n",
    "| `view[0] = new_value`  | ✅ Haan, asar padega                   |\n",
    "| `view.shape = ...`     | ❌ Nahi, shape change ka asar nahi     |\n",
    "| `view = np.array(...)` | ❌ Nahi, ab view dusri memory ban gaya |\n"
   ]
  },
  {
   "cell_type": "markdown",
   "id": "0e6ce320",
   "metadata": {},
   "source": [
    "### Transposing Array"
   ]
  },
  {
   "cell_type": "code",
   "execution_count": null,
   "id": "41d1552f",
   "metadata": {},
   "outputs": [],
   "source": [
    "arr2 = np.arange(12)\n",
    "print(\"original array2: \\n\", arr)\n",
    "\n",
    "reshaped = arr2.reshape((3, 4))\n",
    "print(\"\\nReshaped array2: \\n\", reshaped)\n",
    "print(\"original array2: \\n\", arr)\n",
    "\n",
    "# Transpose\n",
    "transpose = reshaped.T\n",
    "print(\"\\nReshaped array2: \\n\", reshaped)\n",
    "print(\"\\n Transposed Array2: \\n\", transpose)"
   ]
  }
 ],
 "metadata": {
  "kernelspec": {
   "display_name": ".venv (3.10.0)",
   "language": "python",
   "name": "python3"
  },
  "language_info": {
   "codemirror_mode": {
    "name": "ipython",
    "version": 3
   },
   "file_extension": ".py",
   "mimetype": "text/x-python",
   "name": "python",
   "nbconvert_exporter": "python",
   "pygments_lexer": "ipython3",
   "version": "3.10.0"
  }
 },
 "nbformat": 4,
 "nbformat_minor": 5
}
