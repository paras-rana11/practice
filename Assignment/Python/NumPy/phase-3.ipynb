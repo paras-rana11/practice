{
 "cells": [
  {
   "cell_type": "code",
   "execution_count": 2,
   "id": "7b4de0a5",
   "metadata": {},
   "outputs": [],
   "source": [
    "import numpy as np\n",
    "import matplotlib.pyplot as plt"
   ]
  },
  {
   "cell_type": "code",
   "execution_count": null,
   "id": "8249b126",
   "metadata": {},
   "outputs": [],
   "source": [
    "# Data structure: [restaurant_id, 2021, 2022, 2023, 2024]\n",
    "sales_data = np.array([\n",
    "    [1, 150000, 180000, 220000, 250000],  # Paradise Biriyani\n",
    "    [2, 120000, 140000, 160000, 190000],  # Belgium Chocolate\n",
    "    [3, 200000, 230000, 260000, 300000],  # Pizza Hub\n",
    "    [4, 180000, 210000, 240000, 270000],  # Burger Point\n",
    "    [5, 160000, 185000, 205000, 230000],  # Chai Point\n",
    "])\n",
    "\n",
    "print(\"==== Zomato sales analysis ==== \")\n",
    "print(\"\\n Sales data shape: \", sales_data.shape)\n",
    "\n",
    "print(\"\\n Sample data for First 3 restaurant data: \\n\", sales_data[:3])\n",
    "\n",
    "print(\"\\n 'sales_data[:, 1:]' || ':' means all row, and '1:' means 1 position se sari column: \\n\", sales_data[:, 1:])\n"
   ]
  },
  {
   "cell_type": "code",
   "execution_count": null,
   "id": "446a9902",
   "metadata": {},
   "outputs": [],
   "source": [
    "# Total Sales Per Year\n",
    "print(\"Total Sales Per Year: \\n [ 2021    2022   2023    2024]\\n\", np.sum(sales_data[:, 1:], axis=0))\n",
    "\n",
    "# Total Sales Per Restaurant\n",
    "print(\"\\nTotal Sales Per Restaurant: \", np.sum(sales_data[:, 1:], axis=1))\n",
    "\n",
    "print(\"\\nMin Sales Per Restaurant: \", np.min(sales_data[:, 1:], axis=1))\n",
    "\n",
    "print(\"\\nMax Sales Per Restaurant: \", np.max(sales_data[:, 1:], axis=1))\n",
    "\n",
    "print(\"\\nAverage Sales Per Year: \\n [2021    2022    2023    2024]\\n\", np.average(sales_data[:, 1:], axis=0))\n",
    "\n"
   ]
  },
  {
   "cell_type": "code",
   "execution_count": null,
   "id": "618d18fa",
   "metadata": {},
   "outputs": [],
   "source": [
    "cumulative_sum =  np.cumsum(sales_data[:, 1:], axis=1)\n",
    "print(\"cumulative sale: \\n\", cumulative_sum) \n",
    "\n",
    "plt.figure(figsize=(10, 6))\n",
    "plt.plot(np.mean(cumulative_sum, axis=0))\n",
    "plt.title(\"Average Cumulative Sales Accross The Restaurant\")\n",
    "plt.xlabel(\"Years\")\n",
    "plt.ylabel(\"Sales\")\n",
    "plt.grid(True)\n",
    "plt.show()"
   ]
  },
  {
   "cell_type": "code",
   "execution_count": null,
   "id": "4bb944de",
   "metadata": {},
   "outputs": [],
   "source": []
  }
 ],
 "metadata": {
  "kernelspec": {
   "display_name": ".venv (3.10.0)",
   "language": "python",
   "name": "python3"
  },
  "language_info": {
   "codemirror_mode": {
    "name": "ipython",
    "version": 3
   },
   "file_extension": ".py",
   "mimetype": "text/x-python",
   "name": "python",
   "nbconvert_exporter": "python",
   "pygments_lexer": "ipython3",
   "version": "3.10.0"
  }
 },
 "nbformat": 4,
 "nbformat_minor": 5
}
