{
 "cells": [
  {
   "cell_type": "markdown",
   "id": "7a526dd7",
   "metadata": {},
   "source": [
    "### Introduction to Pandas\n",
    "\n",
    "#### What is Pandas?\n",
    "A powerfull library for data manipulation and analysis in Python. Built on top of NumPy, provides data structure like Series and Dataframe.\n",
    "#### Why Use Pandas?\n",
    "* Easy data cleaning and transformation.\n",
    "* Efficient handling of large datasets.\n",
    "* Integration with other Python Libraries like Matplotlib and Seaborn for Visualization."
   ]
  },
  {
   "cell_type": "code",
   "id": "b97c9b95",
   "metadata": {},
   "source": [
    "from tkinter.font import names\n",
    "\n",
    "import pandas as pd"
   ],
   "outputs": [],
   "execution_count": null
  },
  {
   "cell_type": "markdown",
   "id": "e51d6752",
   "metadata": {},
   "source": [
    "#### Key Data Structure in Pandas\n",
    "* Series (1D)\n",
    "* DataFrames (2D)"
   ]
  },
  {
   "metadata": {
    "ExecuteTime": {
     "end_time": "2025-06-27T09:08:24.270704Z",
     "start_time": "2025-06-27T09:08:24.239187Z"
    }
   },
   "cell_type": "code",
   "source": [
    "s = pd.Series([1, 2, 3, 4, 5, 6])\n",
    "s"
   ],
   "id": "8d2729a49df2ecf3",
   "outputs": [
    {
     "data": {
      "text/plain": [
       "0    1\n",
       "1    2\n",
       "2    3\n",
       "3    4\n",
       "4    5\n",
       "5    6\n",
       "dtype: int64"
      ]
     },
     "execution_count": 2,
     "metadata": {},
     "output_type": "execute_result"
    }
   ],
   "execution_count": 2
  },
  {
   "metadata": {},
   "cell_type": "code",
   "source": [
    "s1 = pd.Series([1, 2, 3, 4, 5, 6], index=['a','b','c','d','e','f'])\n",
    "s1"
   ],
   "id": "6a4d1873",
   "outputs": [],
   "execution_count": null
  },
  {
   "metadata": {},
   "cell_type": "code",
   "source": [
    "df1 = pd.DataFrame({\n",
    "    \"names\": [\"Paras\", \"Pavan\", \"Rohan\", \"Yug\", \"Vikas\"],\n",
    "    \"marks\": [100, 80, 65, 89, 22]\n",
    "})\n",
    "# }, index=['a','b','c','d','e'])\n",
    "df1"
   ],
   "id": "def1e522bbe5155d",
   "outputs": [],
   "execution_count": null
  },
  {
   "metadata": {},
   "cell_type": "code",
   "source": [
    "df = pd.read_csv(\"products-1000.csv\")\n",
    "df"
   ],
   "id": "90577a06c8d514c",
   "outputs": [],
   "execution_count": null
  },
  {
   "metadata": {},
   "cell_type": "code",
   "source": "df.head()",
   "id": "76ffcea7ae6ef992",
   "outputs": [],
   "execution_count": null
  },
  {
   "metadata": {},
   "cell_type": "code",
   "source": "df.tail()",
   "id": "8d0ab33a665fa12c",
   "outputs": [],
   "execution_count": null
  },
  {
   "metadata": {},
   "cell_type": "code",
   "source": "df.describe()",
   "id": "57de116382be693b",
   "outputs": [],
   "execution_count": null
  },
  {
   "metadata": {},
   "cell_type": "code",
   "source": "df.info()",
   "id": "c913633edfac8d7",
   "outputs": [],
   "execution_count": null
  },
  {
   "metadata": {},
   "cell_type": "code",
   "source": "df[\"Index\"]",
   "id": "fb34a2940107451",
   "outputs": [],
   "execution_count": null
  },
  {
   "metadata": {},
   "cell_type": "code",
   "source": "df.iloc[0]",
   "id": "6f797aa4e6e47f49",
   "outputs": [],
   "execution_count": null
  }
 ],
 "metadata": {
  "kernelspec": {
   "display_name": "Python 3",
   "language": "python",
   "name": "python3"
  },
  "language_info": {
   "codemirror_mode": {
    "name": "ipython",
    "version": 3
   },
   "file_extension": ".py",
   "mimetype": "text/x-python",
   "name": "python",
   "nbconvert_exporter": "python",
   "pygments_lexer": "ipython3",
   "version": "3.10.0"
  }
 },
 "nbformat": 4,
 "nbformat_minor": 5
}
